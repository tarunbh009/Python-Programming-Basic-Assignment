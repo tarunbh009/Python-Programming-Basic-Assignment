{
 "cells": [
  {
   "cell_type": "markdown",
   "id": "29ced76a",
   "metadata": {},
   "source": [
    "## 1. Write a Python program to find sum of elements in list?"
   ]
  },
  {
   "cell_type": "code",
   "execution_count": 7,
   "id": "35309251",
   "metadata": {},
   "outputs": [
    {
     "name": "stdout",
     "output_type": "stream",
     "text": [
      "Enter the length of your list4\n",
      "Enter Number5\n",
      "Enter Number8\n",
      "Enter Number2\n",
      "Enter Number1\n",
      "The list is [5, 8, 2, 1]\n",
      "The sum of list is 16\n"
     ]
    }
   ],
   "source": [
    "n=int(input(\"Enter the length of your list\"))\n",
    "lst=[]\n",
    "\n",
    "for i in range(n):\n",
    "    lst.append(int(input(\"Enter Number\")))\n",
    "print(\"The list is\",lst)\n",
    "print(\"The sum of list is\",sum(lst))"
   ]
  },
  {
   "cell_type": "markdown",
   "id": "e29d74c5",
   "metadata": {},
   "source": [
    "## 2. Write a Python program to Multiply all numbers in the list?"
   ]
  },
  {
   "cell_type": "code",
   "execution_count": 9,
   "id": "e9b01aa4",
   "metadata": {},
   "outputs": [
    {
     "name": "stdout",
     "output_type": "stream",
     "text": [
      "Enter the length of your list4\n",
      "Enter Number1\n",
      "Enter Number2\n",
      "Enter Number3\n",
      "Enter Number4\n",
      "The list is [1, 2, 3, 4]\n",
      "The Product of elements of list is 24\n"
     ]
    }
   ],
   "source": [
    "n=int(input(\"Enter the length of your list\"))\n",
    "lst=[]\n",
    "\n",
    "for i in range(n):\n",
    "    lst.append(int(input(\"Enter Number\")))\n",
    "print(\"The list is\",lst)\n",
    "\n",
    "prod=1\n",
    "for ele in lst:\n",
    "    prod=ele*prod\n",
    "    \n",
    "print(\"The Product of elements of list is\",prod)"
   ]
  },
  {
   "cell_type": "markdown",
   "id": "d6623d36",
   "metadata": {},
   "source": [
    "## 3. Write a Python program to find smallest number in a list?"
   ]
  },
  {
   "cell_type": "code",
   "execution_count": 10,
   "id": "a1acbcd0",
   "metadata": {},
   "outputs": [
    {
     "name": "stdout",
     "output_type": "stream",
     "text": [
      "Enter the length of your list5\n",
      "Enter Number9\n",
      "Enter Number8\n",
      "Enter Number5\n",
      "Enter Number2\n",
      "Enter Number6\n",
      "The list is [9, 8, 5, 2, 6]\n",
      "The smallest no in list is 2\n"
     ]
    }
   ],
   "source": [
    "n=int(input(\"Enter the length of your list\"))\n",
    "lst=[]\n",
    "\n",
    "for i in range(n):\n",
    "    lst.append(int(input(\"Enter Number\")))\n",
    "print(\"The list is\",lst)\n",
    "print(\"The smallest no in list is\",min(lst))"
   ]
  },
  {
   "cell_type": "markdown",
   "id": "270cfd38",
   "metadata": {},
   "source": [
    "## 4. Write a Python program to find largest number in a list?"
   ]
  },
  {
   "cell_type": "code",
   "execution_count": 2,
   "id": "6ae54133",
   "metadata": {},
   "outputs": [
    {
     "name": "stdout",
     "output_type": "stream",
     "text": [
      "Enter the length of your list6\n",
      "Enter Number54\n",
      "Enter Number21\n",
      "Enter Number11\n",
      "Enter Number0\n",
      "Enter Number8\n",
      "Enter Number9\n",
      "The list is [54, 21, 11, 0, 8, 9]\n",
      "The largest no in list is 54\n"
     ]
    }
   ],
   "source": [
    "n=int(input(\"Enter the length of your list\"))\n",
    "lst=[]\n",
    "\n",
    "for i in range(n):\n",
    "    lst.append(int(input(\"Enter Number\")))\n",
    "print(\"The list is\",lst)\n",
    "print(\"The largest no in list is\",max(lst))"
   ]
  },
  {
   "cell_type": "markdown",
   "id": "52acf385",
   "metadata": {},
   "source": [
    "## 5. Write a Python program to find second largest number in a list?"
   ]
  },
  {
   "cell_type": "code",
   "execution_count": 6,
   "id": "58a5a2e8",
   "metadata": {},
   "outputs": [
    {
     "name": "stdout",
     "output_type": "stream",
     "text": [
      "Enter the lenth of your list : 8\n",
      "73\n",
      "5\n",
      "89\n",
      "21\n",
      "45\n",
      "69\n",
      "35\n",
      "78\n",
      "The List is  [73, 5, 89, 21, 45, 69, 35, 78]\n",
      "The sorted list is  [5, 21, 35, 45, 69, 73, 78, 89]\n",
      "The second largest element in the list is  78\n"
     ]
    }
   ],
   "source": [
    "n = int(input(\"Enter the lenth of your list : \"))\n",
    "lst = []\n",
    "\n",
    "for i in range(n):\n",
    "    lst.append(int(input()))\n",
    "print(\"The List is \",lst)\n",
    "lst.sort()\n",
    "print(\"The sorted list is \",lst)\n",
    "print(\"The second largest element in the list is \",lst[-2])"
   ]
  },
  {
   "cell_type": "markdown",
   "id": "8efbef77",
   "metadata": {},
   "source": [
    "## 6. Write a Python program to find N largest elements from a list?"
   ]
  },
  {
   "cell_type": "code",
   "execution_count": 7,
   "id": "d81bc0b8",
   "metadata": {},
   "outputs": [
    {
     "name": "stdout",
     "output_type": "stream",
     "text": [
      "Enter the lenth of your list : 7\n",
      "5\n",
      "6\n",
      "3\n",
      "4\n",
      "1\n",
      "8\n",
      "9\n",
      "The List is  [5, 6, 3, 4, 1, 8, 9]\n",
      "The sorted list is  [1, 3, 4, 5, 6, 8, 9]\n",
      "Enter how many largest number u want to see in from the list :3\n",
      "3 largest elements from the list are : [6, 8, 9]\n"
     ]
    }
   ],
   "source": [
    "n = int(input(\"Enter the lenth of your list : \"))\n",
    "lst = []\n",
    "\n",
    "for i in range(n):\n",
    "    lst.append(int(input()))\n",
    "print(\"The List is \",lst)\n",
    "lst.sort()\n",
    "print(\"The sorted list is \",lst)\n",
    "nlargest = int(input(\"Enter how many largest number u want to see in from the list :\"))\n",
    "\n",
    "if n < nlargest :\n",
    "    print(\"enterted value is larger then that list length\")\n",
    "else:\n",
    "    print(nlargest,\"largest elements from the list are :\",lst[(n-nlargest):])"
   ]
  },
  {
   "cell_type": "markdown",
   "id": "48ec0562",
   "metadata": {},
   "source": [
    "## 7. Write a Python program to print even numbers in a list?"
   ]
  },
  {
   "cell_type": "code",
   "execution_count": 4,
   "id": "895a16fe",
   "metadata": {},
   "outputs": [
    {
     "name": "stdout",
     "output_type": "stream",
     "text": [
      "Enter the length of your list4\n",
      "Enter Number1\n",
      "Enter Number3\n",
      "Enter Number8\n",
      "Enter Number6\n",
      "The list is [1, 3, 8, 6]\n",
      "The even no in list is [8, 6]\n"
     ]
    }
   ],
   "source": [
    "n=int(input(\"Enter the length of your list\"))\n",
    "lst=[]\n",
    "Even=[]\n",
    "\n",
    "for i in range(n):\n",
    "    lst.append(int(input(\"Enter Number\")))\n",
    "    \n",
    "for num in lst:\n",
    "    if num%2==0:\n",
    "        Even.append(num)\n",
    "        \n",
    "print(\"The list is\",lst)\n",
    "print(\"The even no in list is\",Even)"
   ]
  },
  {
   "cell_type": "markdown",
   "id": "0efee7a9",
   "metadata": {},
   "source": [
    "## 8. Write a Python program to print odd numbers in a List?"
   ]
  },
  {
   "cell_type": "code",
   "execution_count": 5,
   "id": "eed12af1",
   "metadata": {},
   "outputs": [
    {
     "name": "stdout",
     "output_type": "stream",
     "text": [
      "Enter the length of your list5\n",
      "Enter Number1\n",
      "Enter Number3\n",
      "Enter Number2\n",
      "Enter Number6\n",
      "Enter Number7\n",
      "The list is [1, 3, 2, 6, 7]\n",
      "The odd no in list is [1, 3, 7]\n"
     ]
    }
   ],
   "source": [
    "n=int(input(\"Enter the length of your list\"))\n",
    "lst=[]\n",
    "Odd=[]\n",
    "\n",
    "for i in range(n):\n",
    "    lst.append(int(input(\"Enter Number\")))\n",
    "    \n",
    "for num in lst:\n",
    "    if num%2!=0:\n",
    "        Odd.append(num)\n",
    "        \n",
    "print(\"The list is\",lst)\n",
    "print(\"The odd no in list is\",Odd)"
   ]
  },
  {
   "cell_type": "markdown",
   "id": "1a5bb1dd",
   "metadata": {},
   "source": [
    "## 9. Write a Python program to Remove empty List from List?"
   ]
  },
  {
   "cell_type": "code",
   "execution_count": 8,
   "id": "83d36c5c",
   "metadata": {},
   "outputs": [
    {
     "name": "stdout",
     "output_type": "stream",
     "text": [
      "The List : [2, [], 4, 5, [], 6, 8, [], 3]\n",
      "The list after removing empty lists\n",
      "[2, 4, 5, 6, 8, 3]\n"
     ]
    }
   ],
   "source": [
    "lst = [2,[],4,5,[],6,8,[],3]\n",
    "print(\"The List :\",lst)\n",
    "removedlist = []\n",
    "for ele in lst:\n",
    "    if ele!=[]:\n",
    "        removedlist.append(ele)\n",
    "        \n",
    "print(\"The list after removing empty lists\")\n",
    "print(removedlist)"
   ]
  },
  {
   "cell_type": "markdown",
   "id": "f4590c09",
   "metadata": {},
   "source": [
    "## 10. Write a Python program to Cloning or Copying a list?"
   ]
  },
  {
   "cell_type": "code",
   "execution_count": 9,
   "id": "d0054eae",
   "metadata": {},
   "outputs": [
    {
     "name": "stdout",
     "output_type": "stream",
     "text": [
      "Enter the lenth of your list : 5\n",
      "4\n",
      "3\n",
      "1\n",
      "8\n",
      "6\n",
      "The List is  [4, 3, 1, 8, 6]\n",
      "The cloned/copied list :\n",
      "Cloning By list slicing lst[:]  [4, 3, 1, 8, 6]\n",
      "Cloning By list copying lst.copy()  [4, 3, 1, 8, 6]\n",
      "Cloning By list Comprahention  [4, 3, 1, 8, 6]\n",
      "Cloning By list append  [4, 3, 1, 8, 6]\n"
     ]
    }
   ],
   "source": [
    "n = int(input(\"Enter the lenth of your list : \"))\n",
    "lst = []\n",
    "\n",
    "for i in range(n):\n",
    "    lst.append(int(input()))\n",
    "print(\"The List is \",lst)\n",
    "\n",
    "print(\"The cloned/copied list :\")\n",
    "\n",
    "#Method 1\n",
    "lstcopy = lst[:]\n",
    "print(\"Cloning By list slicing lst[:] \",lstcopy)\n",
    "\n",
    "#method2\n",
    "lst2 = lst.copy()\n",
    "print(\"Cloning By list copying lst.copy() \",lst2)\n",
    "\n",
    "\n",
    "#Method3\n",
    "lstcomprah = [i for i in lst]\n",
    "print(\"Cloning By list Comprahention \",lstcomprah)\n",
    "\n",
    "\n",
    "#method4\n",
    "lstappend=[]\n",
    "for i in lst : lstappend.append(i)\n",
    "print(\"Cloning By list append \",lstappend)"
   ]
  },
  {
   "cell_type": "markdown",
   "id": "5bae8e97",
   "metadata": {},
   "source": [
    "## 11. Write a Python program to Count occurrences of an element in a list?"
   ]
  },
  {
   "cell_type": "code",
   "execution_count": 11,
   "id": "c91fdbfd",
   "metadata": {},
   "outputs": [
    {
     "name": "stdout",
     "output_type": "stream",
     "text": [
      "Enter the lenth of your list : 9\n",
      "5\n",
      "5\n",
      "2\n",
      "1\n",
      "8\n",
      "6\n",
      "7\n",
      "3\n",
      "3\n",
      "The List is  [5, 5, 2, 1, 8, 6, 7, 3, 3]\n",
      "Enter the element to find its occurance : 3\n",
      "3 has occured 2 times in the list \n"
     ]
    }
   ],
   "source": [
    "n = int(input(\"Enter the lenth of your list : \"))\n",
    "lst = []\n",
    "\n",
    "for i in range(n):\n",
    "    lst.append(int(input()))\n",
    "print(\"The List is \",lst)\n",
    "ele= int(input(\"Enter the element to find its occurance : \"))\n",
    "print(ele,\"has occured {} times in the list \".format(lst.count(ele)))"
   ]
  },
  {
   "cell_type": "code",
   "execution_count": null,
   "id": "f54bf227",
   "metadata": {},
   "outputs": [],
   "source": []
  }
 ],
 "metadata": {
  "kernelspec": {
   "display_name": "Python 3 (ipykernel)",
   "language": "python",
   "name": "python3"
  },
  "language_info": {
   "codemirror_mode": {
    "name": "ipython",
    "version": 3
   },
   "file_extension": ".py",
   "mimetype": "text/x-python",
   "name": "python",
   "nbconvert_exporter": "python",
   "pygments_lexer": "ipython3",
   "version": "3.9.7"
  }
 },
 "nbformat": 4,
 "nbformat_minor": 5
}
