{
 "cells": [
  {
   "cell_type": "markdown",
   "metadata": {},
   "source": [
    "1. Write a Python program to convert kilometers to miles?"
   ]
  },
  {
   "cell_type": "code",
   "execution_count": 1,
   "metadata": {},
   "outputs": [
    {
     "name": "stdout",
     "output_type": "stream",
     "text": [
      "enter distance in km24\n",
      "The distance in miles is 14.912908559999998\n"
     ]
    }
   ],
   "source": [
    "a=float(input(\"enter distance in km\"))\n",
    "b = a*0.62137119\n",
    "print(\"The distance in miles is\",b)"
   ]
  },
  {
   "cell_type": "markdown",
   "metadata": {},
   "source": [
    "2. Write a Python program to convert Celsius to Fahrenheit?"
   ]
  },
  {
   "cell_type": "code",
   "execution_count": 2,
   "metadata": {},
   "outputs": [
    {
     "name": "stdout",
     "output_type": "stream",
     "text": [
      "enter temp in celcius40\n",
      "temp in farenheit is 104.0\n"
     ]
    }
   ],
   "source": [
    "celcius = float(input(\"enter temp in celcius\"))\n",
    "farenheit=1.8*celcius+32\n",
    "print(\"temp in farenheit is\",farenheit)"
   ]
  },
  {
   "cell_type": "markdown",
   "metadata": {},
   "source": [
    "3. Write a Python program to display calendar?"
   ]
  },
  {
   "cell_type": "code",
   "execution_count": 7,
   "metadata": {},
   "outputs": [
    {
     "name": "stdout",
     "output_type": "stream",
     "text": [
      "Enter year: 21\n",
      "Enter month: 9\n",
      "    September 21\n",
      "Mo Tu We Th Fr Sa Su\n",
      "       1  2  3  4  5\n",
      " 6  7  8  9 10 11 12\n",
      "13 14 15 16 17 18 19\n",
      "20 21 22 23 24 25 26\n",
      "27 28 29 30\n",
      "\n"
     ]
    }
   ],
   "source": [
    "import calendar\n",
    "# Enter the month and year  \n",
    "yy = int(input(\"Enter year: \"))  \n",
    "mm = int(input(\"Enter month: \"))  \n",
    "  \n",
    "# display the calendar  \n",
    "print(calendar.month(yy,mm))"
   ]
  },
  {
   "cell_type": "markdown",
   "metadata": {},
   "source": [
    "4. Write a Python program to solve quadratic equation?"
   ]
  },
  {
   "cell_type": "code",
   "execution_count": 9,
   "metadata": {},
   "outputs": [
    {
     "name": "stdout",
     "output_type": "stream",
     "text": [
      " Enter value of a : 12\n",
      " Enter value of b : 33\n",
      " Enter value of c : 45\n",
      "The roots are\n",
      "(-1.375-1.3635890143294642j)\n",
      "(-1.375+1.3635890143294642j)\n"
     ]
    }
   ],
   "source": [
    "# import complex math module\n",
    "import cmath\n",
    "  \n",
    "\n",
    "a = int(input(\" Enter value of a : \"))\n",
    "b = int(input(\" Enter value of b : \"))\n",
    "c = int(input(\" Enter value of c : \"))\n",
    "# calculating  the discriminant\n",
    "dis = (b**2) - (4 * a*c)\n",
    "  \n",
    "# find two results\n",
    "x1 = (-b-cmath.sqrt(dis))/(2 * a)\n",
    "x2 = (-b + cmath.sqrt(dis))/(2 * a)\n",
    "  \n",
    "# printing the results\n",
    "print('The roots are')\n",
    "print(x1)\n",
    "print(x2)"
   ]
  },
  {
   "cell_type": "markdown",
   "metadata": {},
   "source": [
    "5. Write a Python program to swap two variables without temp variable?"
   ]
  },
  {
   "cell_type": "code",
   "execution_count": 8,
   "metadata": {},
   "outputs": [
    {
     "name": "stdout",
     "output_type": "stream",
     "text": [
      "Num1 : 10\n",
      "Num2 : 20\n",
      "Before swaping x = 10, y = 20\n",
      "After swaping x = 20, y = 10\n"
     ]
    }
   ],
   "source": [
    "\n",
    "x = int(input(\"Num1 : \"))\n",
    "y = int(input(\"Num2 : \"))\n",
    "print(\"Before swaping x = {}, y = {}\".format(x,y))\n",
    "#swaping :)\n",
    "y,x = x,y\n",
    "print(\"After swaping x = {}, y = {}\".format(x,y))"
   ]
  },
  {
   "cell_type": "code",
   "execution_count": null,
   "metadata": {},
   "outputs": [],
   "source": []
  }
 ],
 "metadata": {
  "kernelspec": {
   "display_name": "Python 3",
   "language": "python",
   "name": "python3"
  },
  "language_info": {
   "codemirror_mode": {
    "name": "ipython",
    "version": 3
   },
   "file_extension": ".py",
   "mimetype": "text/x-python",
   "name": "python",
   "nbconvert_exporter": "python",
   "pygments_lexer": "ipython3",
   "version": "3.8.5"
  }
 },
 "nbformat": 4,
 "nbformat_minor": 4
}
