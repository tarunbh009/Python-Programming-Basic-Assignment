{
 "cells": [
  {
   "cell_type": "markdown",
   "id": "711c1a94",
   "metadata": {},
   "source": [
    "## 1. Write a Python program to check if the given number is a Disarium Number?"
   ]
  },
  {
   "cell_type": "markdown",
   "id": "ad76b5ac",
   "metadata": {},
   "source": [
    "A number is said to be the Disarium number when the sum of its digit raised to the power of their respective positions becomes equal to the number itself."
   ]
  },
  {
   "cell_type": "code",
   "execution_count": 7,
   "id": "c045c8f5",
   "metadata": {},
   "outputs": [
    {
     "name": "stdout",
     "output_type": "stream",
     "text": [
      "Enter a no: 89\n",
      "89 is a disarium no\n"
     ]
    }
   ],
   "source": [
    "value=int(input(\"Enter a no: \"))\n",
    "disarium = 0\n",
    "temp=value\n",
    "\n",
    "def find_position(data):\n",
    "    str_data=str(data)\n",
    "    return len(str_data)\n",
    "\n",
    "while temp!=0:\n",
    "    disarium+=(temp%10)**find_position(temp)\n",
    "    temp=temp//10\n",
    "    \n",
    "if disarium==value:\n",
    "    print(f\"{value} is a disarium no\")\n",
    "else:\n",
    "    print(f\"{value} is not a disarium no\")"
   ]
  },
  {
   "cell_type": "markdown",
   "id": "4804daae",
   "metadata": {},
   "source": [
    "## 2. Write a Python program to print all disarium numbers between 1 to 100?"
   ]
  },
  {
   "cell_type": "code",
   "execution_count": 30,
   "id": "64dc81fd",
   "metadata": {},
   "outputs": [
    {
     "name": "stdout",
     "output_type": "stream",
     "text": [
      "Disarium numbers in range 1 to 100\n",
      "[1, 2, 3, 4, 5, 6, 7, 8, 9, 89]\n"
     ]
    }
   ],
   "source": [
    "def isDisarium(num):\n",
    "    sum = 0\n",
    "    while(num>0):\n",
    "        dgcnt= len(str(num))\n",
    "        digit = num%10\n",
    "        sum= sum + digit**dgcnt   \n",
    "        dgcnt-=1\n",
    "        num = num//10\n",
    "    return sum\n",
    "\n",
    "print(\"Disarium numbers in range 1 to 100\")\n",
    "disariumNum = []\n",
    "\n",
    "for i in range(1,101):\n",
    "    sum = 0\n",
    "    sum = isDisarium(i)\n",
    "    if sum == i:\n",
    "        disariumNum.append(i)        \n",
    "print(disariumNum)  "
   ]
  },
  {
   "cell_type": "markdown",
   "id": "81180fd2",
   "metadata": {},
   "source": [
    "## 3. Write a Python program to check if the given number is Happy Number?"
   ]
  },
  {
   "cell_type": "markdown",
   "id": "a6c48ec8",
   "metadata": {},
   "source": [
    "A number is said to be happy if it yields 1 when replaced by the sum of squares of its digits repeatedly. If this process results in an endless cycle of numbers containing 4, then the number will be an unhappy number."
   ]
  },
  {
   "cell_type": "code",
   "execution_count": 2,
   "id": "cd28e7a1",
   "metadata": {},
   "outputs": [
    {
     "name": "stdout",
     "output_type": "stream",
     "text": [
      "Enter a no:7\n",
      "7 is a happy number\n"
     ]
    }
   ],
   "source": [
    "def sumofdigit(n):\n",
    "    res=0\n",
    "    rem=0\n",
    "    while n>0:\n",
    "        rem=n%10\n",
    "        res=res+rem*rem\n",
    "        n=n//10\n",
    "    return res\n",
    "        \n",
    "n=int(input(\"Enter a no:\"))\n",
    "result=n\n",
    "while result!=1 and result!=4:\n",
    "    result = sumofdigit(result)\n",
    "    \n",
    "    \n",
    "if result==1:\n",
    "    print(n,\"is a happy number\")\n",
    "else:\n",
    "    print(n,\"is unhappy number\")"
   ]
  },
  {
   "cell_type": "code",
   "execution_count": 3,
   "id": "38b9b66d",
   "metadata": {},
   "outputs": [],
   "source": [
    "import ipdb"
   ]
  },
  {
   "cell_type": "markdown",
   "id": "d465523b",
   "metadata": {},
   "source": [
    "## 4. Write a Python program to print all happy numbers between 1 and 100?"
   ]
  },
  {
   "cell_type": "code",
   "execution_count": 2,
   "id": "9e2764ab",
   "metadata": {},
   "outputs": [
    {
     "name": "stdout",
     "output_type": "stream",
     "text": [
      "[1, 7, 10, 13, 19, 23, 28, 31, 32, 44, 49, 68, 70, 79, 82, 86, 91, 94, 97, 100]\n"
     ]
    }
   ],
   "source": [
    "def sumofdigit(n):\n",
    "    res=0\n",
    "    rem=0\n",
    "    while n>0:\n",
    "        rem=n%10\n",
    "        res=res+rem*rem\n",
    "        n=n//10\n",
    "    return res\n",
    "        \n",
    "\n",
    "result=n=i=0\n",
    "happy_num=[]\n",
    "    \n",
    "for i in range(1,101):\n",
    "    result=i\n",
    "    while (result!=1 and result!=4):\n",
    "        result=sumofdigit(result)\n",
    "    if result==1:\n",
    "        happy_num.append(i)\n",
    "        \n",
    "        \n",
    "print(happy_num)      \n"
   ]
  },
  {
   "cell_type": "code",
   "execution_count": 2,
   "id": "1214a34f",
   "metadata": {},
   "outputs": [
    {
     "data": {
      "text/plain": [
       "1"
      ]
     },
     "execution_count": 2,
     "metadata": {},
     "output_type": "execute_result"
    }
   ],
   "source": [
    "happy(1)"
   ]
  },
  {
   "cell_type": "markdown",
   "id": "185a9cf6",
   "metadata": {},
   "source": [
    "## 5. Write a Python program to determine whether the given number is a Harshad Number?"
   ]
  },
  {
   "cell_type": "markdown",
   "id": "a3141324",
   "metadata": {},
   "source": [
    "If a number is divisible by the sum of its digits, then it will be known as a Harshad Number"
   ]
  },
  {
   "cell_type": "code",
   "execution_count": 10,
   "id": "6ca01087",
   "metadata": {},
   "outputs": [
    {
     "name": "stdout",
     "output_type": "stream",
     "text": [
      "enter a no150\n",
      "150 is a harshad no\n"
     ]
    }
   ],
   "source": [
    "n=int(input(\"enter a no\"))\n",
    "\n",
    "def sumofdigit(n):\n",
    "    res=0\n",
    "    rem=0\n",
    "    while n>0:\n",
    "        rem=n%10\n",
    "        res=res+rem\n",
    "        n=n//10\n",
    "    return res\n",
    "\n",
    "if n%sumofdigit(n)==0:\n",
    "    print(n,\"is a harshad no\")\n",
    "else:\n",
    "    print(n,\"is not a harshad no\")"
   ]
  },
  {
   "cell_type": "markdown",
   "id": "6f26fba3",
   "metadata": {},
   "source": [
    "## 6. Write a Python program to print all pronic numbers between 1 and 100?"
   ]
  },
  {
   "cell_type": "markdown",
   "id": "57fe29bd",
   "metadata": {},
   "source": [
    "The pronic number is a product of two consecutive integers of the form: n(n+1)"
   ]
  },
  {
   "cell_type": "code",
   "execution_count": 11,
   "id": "54457f68",
   "metadata": {},
   "outputs": [
    {
     "name": "stdout",
     "output_type": "stream",
     "text": [
      "Pronic numbers in range 1 to 100\n",
      "[2, 6, 12, 20, 30, 42, 56, 72, 90]\n"
     ]
    }
   ],
   "source": [
    "def isPronicNum(num):\n",
    "    isPronic = False\n",
    "    for i in range(1,num+1):\n",
    "        if i*(i+1) == num:\n",
    "            isPronic = True\n",
    "            break\n",
    "    return isPronic\n",
    "\n",
    "print(\"Pronic numbers in range 1 to 100\")\n",
    "pronicNum = []\n",
    "for i in range(1,101):\n",
    "    if isPronicNum(i):\n",
    "        pronicNum.append(i)\n",
    "print(pronicNum)"
   ]
  },
  {
   "cell_type": "code",
   "execution_count": null,
   "id": "d654e320",
   "metadata": {},
   "outputs": [],
   "source": []
  }
 ],
 "metadata": {
  "kernelspec": {
   "display_name": "Python 3 (ipykernel)",
   "language": "python",
   "name": "python3"
  },
  "language_info": {
   "codemirror_mode": {
    "name": "ipython",
    "version": 3
   },
   "file_extension": ".py",
   "mimetype": "text/x-python",
   "name": "python",
   "nbconvert_exporter": "python",
   "pygments_lexer": "ipython3",
   "version": "3.9.7"
  }
 },
 "nbformat": 4,
 "nbformat_minor": 5
}
