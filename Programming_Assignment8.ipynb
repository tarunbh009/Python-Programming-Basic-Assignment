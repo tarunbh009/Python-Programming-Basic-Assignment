{
 "cells": [
  {
   "cell_type": "markdown",
   "id": "00245992",
   "metadata": {},
   "source": [
    "## 1. Write a Python Program to Add Two Matrices?"
   ]
  },
  {
   "cell_type": "code",
   "execution_count": 9,
   "id": "cbb933f8",
   "metadata": {},
   "outputs": [
    {
     "name": "stdout",
     "output_type": "stream",
     "text": [
      "enter value of m\n",
      "3\n",
      "enter value of n\n",
      "3\n",
      "enter matrix A\n",
      "enter o[0][0]1\n",
      "enter o[0][1]2\n",
      "enter o[0][2]3\n",
      "enter o[1][0]4\n",
      "enter o[1][1]5\n",
      "enter o[1][2]6\n",
      "enter o[2][0]7\n",
      "enter o[2][1]8\n",
      "enter o[2][2]9\n",
      "[[1, 2, 3], [4, 5, 6], [7, 8, 9]]\n",
      "enter matrix B\n",
      "enter o[0][0]1\n",
      "enter o[0][1]2\n",
      "enter o[0][2]3\n",
      "enter o[1][0]4\n",
      "enter o[1][1]5\n",
      "enter o[1][2]6\n",
      "enter o[2][0]7\n",
      "enter o[2][1]8\n",
      "enter o[2][2]9\n",
      "[[1, 2, 3], [4, 5, 6], [7, 8, 9]]\n",
      "sum of two matrix is [[2, 4, 6], [8, 10, 12], [14, 16, 18]]\n"
     ]
    }
   ],
   "source": [
    "def matrix(m,n):\n",
    "    o=[]\n",
    "    for i in range(m):\n",
    "        row=[]\n",
    "        for j in range(n):\n",
    "            inp=int(input(f\"enter o[{i}][{j}]\"))\n",
    "            row.append(inp)\n",
    "        o.append(row)\n",
    "    return o \n",
    "\n",
    "def sum(A,B):\n",
    "    output=[]\n",
    "    for i in range(len(A)): # number of rows\n",
    "        row=[]\n",
    "        for j in range(len(A[0])): # number of columns\n",
    "            row.append(A[i][j]+B[i][j])\n",
    "        output.append(row)\n",
    "    return output    \n",
    "\n",
    "m=int(input(\"enter value of m\\n\"))\n",
    "n=int(input(\"enter value of n\\n\"))\n",
    "\n",
    "print(\"enter matrix A\")\n",
    "A=matrix(m,n)\n",
    "print(A)\n",
    "\n",
    "print(\"enter matrix B\")\n",
    "B=matrix(m,n)\n",
    "print(B)\n",
    "\n",
    "s=sum(A,B)\n",
    "print(\"sum of two matrix is\",s)"
   ]
  },
  {
   "cell_type": "code",
   "execution_count": null,
   "id": "15a2da87",
   "metadata": {},
   "outputs": [],
   "source": []
  },
  {
   "cell_type": "markdown",
   "id": "5d6b65ed",
   "metadata": {},
   "source": [
    "## 2. Write a Python Program to Multiply Two Matrices?"
   ]
  },
  {
   "cell_type": "code",
   "execution_count": 12,
   "id": "bdb4e9b3",
   "metadata": {},
   "outputs": [
    {
     "name": "stdout",
     "output_type": "stream",
     "text": [
      "[44, 51, 22]\n",
      "[81, 96, 57]\n",
      "[126, 150, 93]\n"
     ]
    }
   ],
   "source": [
    "A = [[1,2,4],\n",
    "        [4,5,6],\n",
    "        [7,8,9]]\n",
    "\n",
    "B = [[2,3,4],\n",
    "        [5,6,7],\n",
    "        [8,9,1]]\n",
    "\n",
    "C = [[0,0,0],\n",
    "          [0,0,0],\n",
    "          [0,0,0]]\n",
    "\n",
    "for i in range(0,len(C)):\n",
    "    for j in range(0,len(C[0])):\n",
    "        for k in range(0,len(B)):\n",
    "            C[i][j]+=A[i][k]*B[k][j]\n",
    "            \n",
    "for row in C:\n",
    "    print(row)"
   ]
  },
  {
   "cell_type": "code",
   "execution_count": null,
   "id": "fe023271",
   "metadata": {},
   "outputs": [],
   "source": []
  },
  {
   "cell_type": "markdown",
   "id": "9a546eff",
   "metadata": {},
   "source": [
    "## 3. Write a Python Program to Transpose a Matrix?"
   ]
  },
  {
   "cell_type": "code",
   "execution_count": null,
   "id": "05706f73",
   "metadata": {},
   "outputs": [],
   "source": []
  },
  {
   "cell_type": "code",
   "execution_count": 18,
   "id": "9816e7c0",
   "metadata": {},
   "outputs": [
    {
     "name": "stdout",
     "output_type": "stream",
     "text": [
      "Enter N for N x N matrix: 4\n",
      "Enter the element :\n",
      "1\n",
      "2\n",
      "3\n",
      "4\n",
      "5\n",
      "6\n",
      "7\n",
      "8\n",
      "9\n",
      "10\n",
      "11\n",
      "12\n",
      "13\n",
      "14\n",
      "15\n",
      "16\n",
      "Display Array M1 In Matrix Form\n",
      "1 2 3 4 \n",
      "5 6 7 8 \n",
      "9 10 11 12 \n",
      "13 14 15 16 \n",
      "Transposed Matrix\n",
      "[1, 5, 9, 13]\n",
      "[2, 6, 10, 14]\n",
      "[3, 7, 11, 15]\n",
      "[4, 8, 12, 16]\n"
     ]
    }
   ],
   "source": [
    "def initializeMatrix(n,v=0):\n",
    "    M=[]             \n",
    "    for i in range(n):\n",
    "        row =[]\n",
    "        for j in range(n):\n",
    "            row.append(v)\n",
    "        M.append(row)\n",
    "    return(M)\n",
    "\n",
    "\n",
    "def createMatrix(n):\n",
    "    \n",
    "    M=[]             \n",
    "    print(\"Enter the element :\")\n",
    "    for i in range(n):\n",
    "        row =[]\n",
    "        for j in range(n):\n",
    "            row.append(int(input()))\n",
    "        M.append(row)\n",
    "    return(M)\n",
    "\n",
    "\n",
    "def printMatrix(M,n):\n",
    "    for i in range(n):\n",
    "        for j in range(n):\n",
    "            print(M[i][j], end=\" \")\n",
    "        print() \n",
    "    \n",
    "    \n",
    "def transposeMatrix(M,n,result):\n",
    "    for i in range(n):\n",
    "        for j in range(n):\n",
    "            result[i][j]= M[j][i]\n",
    "    return result\n",
    "\n",
    "n=int(input(\"Enter N for N x N matrix: \"))       \n",
    "M1 = createMatrix(n)\n",
    "\n",
    "#Display the 2D array\n",
    "print(\"Display Array M1 In Matrix Form\")\n",
    "printMatrix(M1,n)\n",
    "\n",
    "result = initializeMatrix(n)\n",
    "result = transposeMatrix(M1,n,result)\n",
    "print(\"Transposed Matrix\")\n",
    "for r in result:\n",
    "    print(r)"
   ]
  },
  {
   "cell_type": "markdown",
   "id": "ec225589",
   "metadata": {},
   "source": [
    "## 4. Write a Python Program to Sort Words in Alphabetic Order?"
   ]
  },
  {
   "cell_type": "code",
   "execution_count": 1,
   "id": "c2d6629b",
   "metadata": {},
   "outputs": [
    {
     "name": "stdout",
     "output_type": "stream",
     "text": [
      "Enter some string: python program to sort words\n",
      "program\n",
      "python\n",
      "sort\n",
      "to\n",
      "words\n"
     ]
    }
   ],
   "source": [
    "str = input(\"Enter some string: \")\n",
    "\n",
    "words = str.split()\n",
    "words.sort()\n",
    "for word in words:\n",
    "    print(word)"
   ]
  },
  {
   "cell_type": "markdown",
   "id": "69f977bc",
   "metadata": {},
   "source": [
    "## 5. Write a Python Program to Remove Punctuation From a String?"
   ]
  },
  {
   "cell_type": "code",
   "execution_count": 9,
   "id": "3814d21e",
   "metadata": {},
   "outputs": [
    {
     "name": "stdout",
     "output_type": "stream",
     "text": [
      "enter some string with punctuationjhkl&khk(knkj)\n",
      "jhklkhkknkj\n"
     ]
    }
   ],
   "source": [
    "punctuations = '''!()-[]{};:'\"\\,<>./?@#$%^&*_~'''\n",
    "\n",
    "string=input(\"enter some string with punctuation\")\n",
    "no_punch=\"\"\n",
    "for char in string:\n",
    "    if char not in punctuations:\n",
    "        no_punch=no_punch+char\n",
    "\n",
    "        \n",
    "print(no_punch)    \n"
   ]
  },
  {
   "cell_type": "code",
   "execution_count": null,
   "id": "bc6d4048",
   "metadata": {},
   "outputs": [],
   "source": []
  }
 ],
 "metadata": {
  "kernelspec": {
   "display_name": "Python 3 (ipykernel)",
   "language": "python",
   "name": "python3"
  },
  "language_info": {
   "codemirror_mode": {
    "name": "ipython",
    "version": 3
   },
   "file_extension": ".py",
   "mimetype": "text/x-python",
   "name": "python",
   "nbconvert_exporter": "python",
   "pygments_lexer": "ipython3",
   "version": "3.9.7"
  }
 },
 "nbformat": 4,
 "nbformat_minor": 5
}
